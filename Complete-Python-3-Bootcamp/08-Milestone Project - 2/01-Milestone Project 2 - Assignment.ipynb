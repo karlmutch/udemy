{
 "cells": [
  {
   "cell_type": "markdown",
   "metadata": {},
   "source": [
    "# Milestone Project 2 - Blackjack Game\n",
    "In this milestone project you will be creating a Complete BlackJack Card Game in Python.\n",
    "\n",
    "Here are the requirements:\n",
    "\n",
    "* You need to create a simple text-based [BlackJack](https://en.wikipedia.org/wiki/Blackjack) game\n",
    "* The game needs to have one player versus an automated dealer.\n",
    "* The player can stand or hit.\n",
    "* The player must be able to pick their betting amount.\n",
    "* You need to keep track of the player's total money.\n",
    "* You need to alert the player of wins, losses, or busts, etc...\n",
    "\n",
    "And most importantly:\n",
    "\n",
    "* **You must use OOP and classes in some portion of your game. You can not just use functions in your game. Use classes to help you define the Deck and the Player's hand. There are many right ways to do this, so explore it well!**\n",
    "\n",
    "\n",
    "Feel free to expand this game. Try including multiple players. Try adding in Double-Down and card splits! Remember to you are free to use any resources you want and as always:\n",
    "\n",
    "# HAVE FUN!"
   ]
  },
  {
   "cell_type": "code",
   "execution_count": 68,
   "metadata": {},
   "outputs": [
    {
     "name": "stdout",
     "output_type": "stream",
     "text": [
      "🃂,🂡,🂺,🃎,🂵,🂢,🂤,🃙,🂣,🃁,🂭,🃄,🃊,🃛,🃓,🂨,🃔,🂪,🂾,🃒,🂱,🂳,🃅,🂹,🃖,🃘,🂮,🃑,🂸,🂦,🃚,🂲,🂽,🃆,🂧,🃈,🃉,🃋,🂻,🃗,🃞,🂶,🃃,🃇,🃍,🃕,🂥,🂫,🂩,🃝,🂴,🂷,\n"
     ]
    }
   ],
   "source": [
    "import random\n",
    "\n",
    "from IPython.core.display import display, HTML\n",
    "from IPython.display import clear_output\n",
    "\n",
    "board = [\n",
    "    \"┌───┬───┬───┐\",\n",
    "    \"│ 7 │ 8 │ 9 │\",\n",
    "    \"├───┼───┼───┤\",\n",
    "    \"│ 4 │ 5 │ 6 │\",\n",
    "    \"├───┼───┼───┤\",\n",
    "    \"│ 1 │ 2 │ 3 │\",\n",
    "    \"└───┴───┴───┘\"\n",
    "]\n",
    "\n",
    "class Card:\n",
    "    def __init__(self, suit, rank, values, icon):\n",
    "        self.suit = suit\n",
    "        self.rank = rank\n",
    "        self.values = list(values)\n",
    "        self.icon = icon\n",
    "\n",
    "\n",
    "class Deck():\n",
    "\n",
    "    def __init__(self):\n",
    "        self.cards = []\n",
    "        generic_cards = [('ace', [1, 11])]\n",
    "        for i in range (2, 11):\n",
    "            generic_cards.append((f'{i}', [i]))\n",
    "        for face in ['jack', 'queen', 'king']:\n",
    "            generic_cards.append((face, [10]))\n",
    "\n",
    "        cards_graphic = list('🂱🂲🂳🂴🂵🂶🂷🂸🂹🂺🂻🂽🂾🂡🂢🂣🂤🂥🂦🂧🂨🂩🂪🂫🂭🂮🃁🃂🃃🃄🃅🃆🃇🃈🃉🃊🃋🃍🃎🃑🃒🃓🃔🃕🃖🃗🃘🃙🃚🃛🃝🃞')\n",
    "\n",
    "        for base, suit in enumerate(['hearts', 'spades', 'diamonds', 'clubs']):\n",
    "            for i, card in enumerate(generic_cards):\n",
    "                self.cards.append(Card(suit=suit, rank=card[0], values=card[1], icon=cards_graphic.pop(0)))\n",
    "\n",
    "        random.shuffle(self.cards)\n",
    "\n",
    "    def __len__(self):\n",
    "        return len(self.cards)\n",
    "    \n",
    "    def __str__(self):\n",
    "        result = ''\n",
    "        for card in self.cards:\n",
    "            result += f'{card.icon},'\n",
    "        return result\n",
    "\n",
    "    def pop(self):\n",
    "        return self.cards.pop()\n",
    "    \n",
    "class Hand():\n",
    "    def __init__(self):\n",
    "        self.cards = []\n",
    "    \n",
    "    def is_bust(self):\n",
    "        total = 0\n",
    "        for card in self.cards:\n",
    "            total += min(card.values)\n",
    "        return total > 21\n",
    "    \n",
    "    def append(self, card):\n",
    "        self.cards.append(card)\n",
    "        return not self.is_bust()\n",
    "\n",
    "class Player():\n",
    "    def __init__(self):\n",
    "        self.hand = Hand()\n",
    "        self.hidden = None\n",
    "        \n",
    "    def is_bust(self):\n",
    "        return self.hand.is_bust()\n",
    "\n",
    "    def dealt_hidden(self, card):\n",
    "        self.hidden = card\n",
    "\n",
    "    def dealt(self, card):\n",
    "        self.hand.append(card)\n",
    "        return not self.is_bust()\n",
    "            \n",
    "class Dealer(Player):\n",
    "    def __init__(self):\n",
    "        Player.__init__(self)\n",
    "\n",
    "class Table():\n",
    "    def __init__(self):\n",
    "        self.dealer = Player()\n",
    "        self.player = Player()\n",
    "\n",
    "        self.deck = Deck()\n",
    "\n",
    "        self.player.dealt(self.deck.pop())\n",
    "        self.player.dealt(self.deck.pop())\n",
    "\n",
    "        self.dealer.dealt(self.deck.pop())\n",
    "        self.dealer.dealt_hidden(self.deck.pop())\n",
    "\n",
    "    def display(self):\n",
    "        clear_output()\n",
    "        print(deck)\n",
    "        \n",
    "table = Table()\n",
    "table.display()"
   ]
  },
  {
   "cell_type": "code",
   "execution_count": 43,
   "metadata": {},
   "outputs": [
    {
     "data": {
      "text/plain": [
       "52"
      ]
     },
     "execution_count": 43,
     "metadata": {},
     "output_type": "execute_result"
    }
   ],
   "source": []
  },
  {
   "cell_type": "code",
   "execution_count": null,
   "metadata": {},
   "outputs": [],
   "source": []
  }
 ],
 "metadata": {
  "kernelspec": {
   "display_name": "Python 3",
   "language": "python",
   "name": "python3"
  },
  "language_info": {
   "codemirror_mode": {
    "name": "ipython",
    "version": 3
   },
   "file_extension": ".py",
   "mimetype": "text/x-python",
   "name": "python",
   "nbconvert_exporter": "python",
   "pygments_lexer": "ipython3",
   "version": "3.7.6"
  }
 },
 "nbformat": 4,
 "nbformat_minor": 1
}
