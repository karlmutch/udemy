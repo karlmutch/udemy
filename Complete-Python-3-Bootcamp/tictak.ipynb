{
 "cells": [
  {
   "cell_type": "code",
   "execution_count": 76,
   "metadata": {},
   "outputs": [
    {
     "name": "stdout",
     "output_type": "stream",
     "text": [
      "┌───┬───┬───┐\n",
      "│ x │ 8 │ o │\n",
      "├───┼───┼───┤\n",
      "│ 4 │ 5 │ 6 │\n",
      "├───┼───┼───┤\n",
      "│ x │ 2 │ o │\n",
      "└───┴───┴───┘\n",
      "Input the cell you wish to play k : 4\n",
      "k won this game\n"
     ]
    }
   ],
   "source": [
    "from IPython.core.display import display, HTML\n",
    "from IPython.display import clear_output\n",
    "\n",
    "board = [\n",
    "    \"┌───┬───┬───┐\",\n",
    "    \"│ 7 │ 8 │ 9 │\",\n",
    "    \"├───┼───┼───┤\",\n",
    "    \"│ 4 │ 5 │ 6 │\",\n",
    "    \"├───┼───┼───┤\",\n",
    "    \"│ 1 │ 2 │ 3 │\",\n",
    "    \"└───┴───┴───┘\"\n",
    "]\n",
    "\n",
    "def input_players():\n",
    "    playerX = input(\"Player X name: \")\n",
    "    playerO = input(\"Player O name: \")\n",
    "    return playerX, playerO\n",
    "\n",
    "def get_move(player):\n",
    "    while True:\n",
    "        position = int(input(\"Input the cell you wish to play {} : \".format(player)))\n",
    "        if position > 0 and position < 10:\n",
    "            return position\n",
    "\n",
    "def is_winner(positions):\n",
    "    # Calculate sets of winning moves, pretty small game so dont compute them just\n",
    "    # layout the winning sets of moves manually\n",
    "    winners = [(1,4,7),(2,5,8), (3,6,9), (1,2,3), (4,5,6), (7,8,9), (1,5,9), (3,5,7)]\n",
    "    for win in winners:\n",
    "        # If after evaluating the common set of winers and moves if we\n",
    "        # are left with at least three positions from the player that fit\n",
    "        # the move we have a winner\n",
    "        common = set(win).intersection(set(positions))\n",
    "        if len(common) == 3:\n",
    "            return True\n",
    "    return False\n",
    "\n",
    "def display_board():\n",
    "    clear_output()\n",
    "    for line in board:\n",
    "        print(line)\n",
    "\n",
    "\n",
    "def update_board(playerIcon, position):\n",
    "    # Calculate which row of the diagram the position is to be found on\n",
    "    row = 5\n",
    "    if position > 6:\n",
    "        row = 1\n",
    "    elif position > 3:\n",
    "        row = 3\n",
    "    # replace the existing position icon with the players mark\n",
    "    board[row] = board[row].replace(str(position), playerIcon)\n",
    "\n",
    "# Now begin the main body of the program\n",
    "moves = dict()\n",
    "players = list(input_players())\n",
    "\n",
    "moves = {players[0]: dict(), players[1]: dict()}\n",
    "\n",
    "# There are a maximum of 9 moves so cycle between the players alternatively\n",
    "for i, playerIcon in enumerate('xo'*5):\n",
    "    display_board()\n",
    "    player = players[i%2]\n",
    "\n",
    "    while True:\n",
    "        # Loop until we get a satisfactory move from the player\n",
    "        position = get_move(player)\n",
    "        \n",
    "        # If we dont find that this move has already been taken allow it to be used\n",
    "        if position not in moves[players[0]] and position not in moves[players[1]] :\n",
    "            moves[player][position] = playerIcon\n",
    "            update_board(playerIcon, position)\n",
    "            break\n",
    "\n",
    "\n",
    "    if is_winner(moves[player].keys()):\n",
    "        print('{} won this game'.format(player))\n",
    "        break\n",
    "    if i >= 9:\n",
    "        print('this is a hung game')\n",
    "        break"
   ]
  },
  {
   "cell_type": "code",
   "execution_count": null,
   "metadata": {},
   "outputs": [],
   "source": [
    "\n"
   ]
  },
  {
   "cell_type": "code",
   "execution_count": null,
   "metadata": {},
   "outputs": [],
   "source": []
  }
 ],
 "metadata": {
  "kernelspec": {
   "display_name": "Python 3",
   "language": "python",
   "name": "python3"
  },
  "language_info": {
   "codemirror_mode": {
    "name": "ipython",
    "version": 3
   },
   "file_extension": ".py",
   "mimetype": "text/x-python",
   "name": "python",
   "nbconvert_exporter": "python",
   "pygments_lexer": "ipython3",
   "version": "3.7.6"
  }
 },
 "nbformat": 4,
 "nbformat_minor": 4
}
