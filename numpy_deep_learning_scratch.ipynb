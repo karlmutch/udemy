{
  "nbformat": 4,
  "nbformat_minor": 0,
  "metadata": {
    "colab": {
      "name": "numpy-deep-learning-scratch.ipynb",
      "provenance": [],
      "collapsed_sections": [],
      "authorship_tag": "ABX9TyNBAsqxmGGudpeF9Kh/2yHO",
      "include_colab_link": true
    },
    "kernelspec": {
      "name": "python3",
      "display_name": "Python 3"
    }
  },
  "cells": [
    {
      "cell_type": "markdown",
      "metadata": {
        "id": "view-in-github",
        "colab_type": "text"
      },
      "source": [
        "<a href=\"https://colab.research.google.com/github/karlmutch/udemy/blob/master/numpy_deep_learning_scratch.ipynb\" target=\"_parent\"><img src=\"https://colab.research.google.com/assets/colab-badge.svg\" alt=\"Open In Colab\"/></a>"
      ]
    },
    {
      "cell_type": "markdown",
      "metadata": {
        "id": "16k3xKPFW1eU",
        "colab_type": "text"
      },
      "source": [
        "Linear scratch\n",
        "\n",
        "$${x}_1+x_2=2200$$\n",
        "$$1.5x_1+4x_2=5050$$\n",
        "\n",
        "\n"
      ]
    },
    {
      "cell_type": "code",
      "metadata": {
        "id": "kdM6Oe9SW5Fm",
        "colab_type": "code",
        "colab": {}
      },
      "source": [
        "import numpy as np\n",
        "import numpy.linalg\n",
        "import random\n",
        "\n",
        "from datetime import datetime"
      ],
      "execution_count": 0,
      "outputs": []
    },
    {
      "cell_type": "code",
      "metadata": {
        "id": "v1XFImOJpboB",
        "colab_type": "code",
        "colab": {}
      },
      "source": [
        ""
      ],
      "execution_count": 0,
      "outputs": []
    },
    {
      "cell_type": "code",
      "metadata": {
        "colab_type": "code",
        "id": "41zySQOzpfI0",
        "colab": {}
      },
      "source": [
        "A = np.array([[1, 1], [1.5, 4]])\n",
        "b = np.array([2200, 5050])"
      ],
      "execution_count": 0,
      "outputs": []
    },
    {
      "cell_type": "code",
      "metadata": {
        "id": "UiwiYDsXY0rR",
        "colab_type": "code",
        "outputId": "75698733-c0b8-4155-8dab-aadf24929484",
        "colab": {
          "base_uri": "https://localhost:8080/",
          "height": 34
        }
      },
      "source": [
        "np.linalg.solve(A, b)"
      ],
      "execution_count": 0,
      "outputs": [
        {
          "output_type": "execute_result",
          "data": {
            "text/plain": [
              "array([1500.,  700.])"
            ]
          },
          "metadata": {
            "tags": []
          },
          "execution_count": 12
        }
      ]
    },
    {
      "cell_type": "code",
      "metadata": {
        "id": "haF8KdpWZGJn",
        "colab_type": "code",
        "colab": {
          "base_uri": "https://localhost:8080/",
          "height": 51
        },
        "outputId": "e6252475-4e56-4cb9-86e7-ba3f0f9b6969"
      },
      "source": [
        "5 * np.ones((2,3))"
      ],
      "execution_count": 4,
      "outputs": [
        {
          "output_type": "execute_result",
          "data": {
            "text/plain": [
              "array([[5., 5., 5.],\n",
              "       [5., 5., 5.]])"
            ]
          },
          "metadata": {
            "tags": []
          },
          "execution_count": 4
        }
      ]
    },
    {
      "cell_type": "markdown",
      "metadata": {
        "id": "Og6uSFHCiEDr",
        "colab_type": "text"
      },
      "source": [
        ""
      ]
    },
    {
      "cell_type": "code",
      "metadata": {
        "id": "-rG9tTALbqTj",
        "colab_type": "code",
        "outputId": "187c75e4-182b-47b7-c2be-5aa45719d673",
        "colab": {
          "base_uri": "https://localhost:8080/",
          "height": 51
        }
      },
      "source": [
        "np.random.random((2,3))"
      ],
      "execution_count": 8,
      "outputs": [
        {
          "output_type": "execute_result",
          "data": {
            "text/plain": [
              "array([[0.72309909, 0.03350804, 0.07798836],\n",
              "       [0.5773543 , 0.94885968, 0.84039888]])"
            ]
          },
          "metadata": {
            "tags": []
          },
          "execution_count": 8
        }
      ]
    },
    {
      "cell_type": "code",
      "metadata": {
        "colab_type": "code",
        "outputId": "dc8932b0-43c4-430a-9c9c-469d1fd3da42",
        "id": "sG4inv4LiRPl",
        "colab": {
          "base_uri": "https://localhost:8080/",
          "height": 51
        }
      },
      "source": [
        "np.random.randn(2,3)"
      ],
      "execution_count": 9,
      "outputs": [
        {
          "output_type": "execute_result",
          "data": {
            "text/plain": [
              "array([[0.6483395 , 0.89229093, 1.18288003],\n",
              "       [0.4584108 , 1.42801453, 0.23886793]])"
            ]
          },
          "metadata": {
            "tags": []
          },
          "execution_count": 9
        }
      ]
    },
    {
      "cell_type": "code",
      "metadata": {
        "id": "RtH_oDgeiSFk",
        "colab_type": "code",
        "colab": {}
      },
      "source": [
        ""
      ],
      "execution_count": 0,
      "outputs": []
    },
    {
      "cell_type": "markdown",
      "metadata": {
        "id": "86sVyySkoMJ_",
        "colab_type": "text"
      },
      "source": [
        "Do a speed test for matrix multiplications using lists, and using numpy"
      ]
    },
    {
      "cell_type": "code",
      "metadata": {
        "id": "K8qofkThoW8i",
        "colab_type": "code",
        "colab": {
          "base_uri": "https://localhost:8080/",
          "height": 51
        },
        "outputId": "acaa9a7f-a6b6-43bb-8ebc-968c0fa4aa95"
      },
      "source": [
        "width, height = 18**2, 12**2\n",
        "py_matrix_1 = [[random.randint(1,9) for x in range(width)] for y in range(height)]\n",
        "py_matrix_2 = [[random.randint(1,9) for x in range(height)] for y in range(width)]\n",
        "#py_matrix_1 = [[12, 7, 3], \n",
        "#    [4, 5, 6], \n",
        "#    [7, 8, 9]] \n",
        "  \n",
        "# take a 3x4 matrix     \n",
        "#py_matrix_2 = [[5, 8, 1, 2], \n",
        "#    [6, 7, 3, 0], \n",
        "#    [4, 5, 9, 1]] \n",
        "      \n",
        "#py_matrix_1 = [[1,2,3], [4,5,6]]\n",
        "#py_matrix_2 = [[7,8], [9,10], [11,12]]\n",
        "\n",
        "result = [[0 for x in range(len(py_matrix_2[0]))] for y in range(len(py_matrix_1))]\n",
        "\n",
        "start_time = datetime.now()\n",
        "# by row of first array\n",
        "for i in range(len(py_matrix_1)):\n",
        "  # by column of second array\n",
        "  for j in range(len(py_matrix_2[0])):\n",
        "    # by row of second array in the single column\n",
        "    for k in range(len(py_matrix_2)):\n",
        "      result[i][j] += py_matrix_1[i][k] * py_matrix_2[k][j]\n",
        "\n",
        "end_time = datetime.now()\n",
        "print('Duration: {}'.format(end_time - start_time))\n",
        "\n",
        "py_matrix_1=numpy.array([numpy.array(xi) for xi in py_matrix_1])\n",
        "py_matrix_2=numpy.array([numpy.array(xi) for xi in py_matrix_2])\n",
        "\n",
        "start_time = datetime.now()\n",
        "\n",
        "py_matrix_1.dot(py_matrix_2)\n",
        "end_time = datetime.now()\n",
        "print('Duration: {}'.format(end_time - start_time))\n"
      ],
      "execution_count": 105,
      "outputs": [
        {
          "output_type": "stream",
          "text": [
            "Duration: 0:00:02.030448\n",
            "Duration: 0:00:00.008791\n"
          ],
          "name": "stdout"
        }
      ]
    },
    {
      "cell_type": "code",
      "metadata": {
        "id": "v91LIytTpTNC",
        "colab_type": "code",
        "colab": {}
      },
      "source": [
        ""
      ],
      "execution_count": 0,
      "outputs": []
    }
  ]
}